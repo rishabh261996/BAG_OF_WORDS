{
  "nbformat": 4,
  "nbformat_minor": 0,
  "metadata": {
    "colab": {
      "name": "Bag_of_words_Implementation.ipynb",
      "provenance": []
    },
    "kernelspec": {
      "name": "python3",
      "display_name": "Python 3"
    },
    "language_info": {
      "name": "python"
    }
  },
  "cells": [
    {
      "cell_type": "markdown",
      "source": [
        "##  Bag of words implementation\n",
        "\n",
        "It is a way to extract or derive  numerical features from text data so as to make modelling feasible in case of text dataset.\n",
        "\n",
        "In simple words, \n",
        "\n",
        "A quite common feature extraction method or technique for sentences and documents is the bag-of-words approach (BOW). In this approach, we look at the histogram or frequency of the words within the text, i.e. considering each word count as a feature.\n",
        "\n",
        "![bag_of_words.jpg](data:image/jpeg;base64,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)\n",
        "\n",
        "\n",
        "Source: Towards Data Science"
      ],
      "metadata": {
        "id": "VrbQUhN8EBWa"
      }
    },
    {
      "cell_type": "code",
      "source": [
        "eco_para = \"\"\" \n",
        "Microeconomics examines how entities, forming a market structure, interact within a market to create a market system. These entities include private and public players with various classifications, typically operating under scarcity of tradable units and light government regulation.[clarification needed] The item traded may be a tangible product such as apples or a service such as repair services, legal counsel, or entertainment.\n",
        "\n",
        "In theory, in a free market the aggregates (sum of) of quantity demanded by buyers and quantity supplied by sellers may reach economic equilibrium over time in reaction to price changes; in practice, various issues may prevent equilibrium, and any equilibrium reached may not necessarily be morally equitable. For example, if the supply of healthcare services is limited by external factors, the equilibrium price may be unaffordable for many who desire it but cannot pay for it.\n",
        "\n",
        "Various market structures exist. In perfectly competitive markets, no participants are large enough to have the market power to set the price of a homogeneous product. In other words, every participant is a \"price taker\" as no participant influences the price of a product. In the real world, markets often experience imperfect competition.\n",
        "\n",
        "Forms include monopoly (in which there is only one seller of a good), duopoly (in which there are only two sellers of a good), oligopoly (in which there are few sellers of a good), monopolistic competition (in which there are many sellers producing highly differentiated goods), monopsony (in which there is only one buyer of a good), and oligopsony (in which there are few buyers of a good). Unlike perfect competition, imperfect competition invariably means market power is unequally distributed. Firms under imperfect competition have the potential to be \"price makers\", which means that, by holding a disproportionately high share of market power, they can influence the prices of their products.\n",
        "\n",
        "Microeconomics studies individual markets by simplifying the economic system by assuming that activity in the market being analysed does not affect other markets. This method of analysis is known as partial-equilibrium analysis (supply and demand). This method aggregates (the sum of all activity) in only one market. General-equilibrium theory studies various markets and their behaviour. It aggregates (the sum of all activity) across all markets. This method studies both changes in markets and their interactions leading towards equilibrium.\"\"\""
      ],
      "metadata": {
        "id": "NwEBEPEdIpet"
      },
      "execution_count": 5,
      "outputs": []
    },
    {
      "cell_type": "code",
      "source": [
        "# print it\n",
        "print(eco_para)"
      ],
      "metadata": {
        "colab": {
          "base_uri": "https://localhost:8080/"
        },
        "id": "-6dezVGFJP9W",
        "outputId": "3e953da4-60ed-4f91-e7af-c877de7dcf4a"
      },
      "execution_count": 9,
      "outputs": [
        {
          "output_type": "stream",
          "name": "stdout",
          "text": [
            " \n",
            "Microeconomics examines how entities, forming a market structure, interact within a market to create a market system. These entities include private and public players with various classifications, typically operating under scarcity of tradable units and light government regulation.[clarification needed] The item traded may be a tangible product such as apples or a service such as repair services, legal counsel, or entertainment.\n",
            "\n",
            "In theory, in a free market the aggregates (sum of) of quantity demanded by buyers and quantity supplied by sellers may reach economic equilibrium over time in reaction to price changes; in practice, various issues may prevent equilibrium, and any equilibrium reached may not necessarily be morally equitable. For example, if the supply of healthcare services is limited by external factors, the equilibrium price may be unaffordable for many who desire it but cannot pay for it.\n",
            "\n",
            "Various market structures exist. In perfectly competitive markets, no participants are large enough to have the market power to set the price of a homogeneous product. In other words, every participant is a \"price taker\" as no participant influences the price of a product. In the real world, markets often experience imperfect competition.\n",
            "\n",
            "Forms include monopoly (in which there is only one seller of a good), duopoly (in which there are only two sellers of a good), oligopoly (in which there are few sellers of a good), monopolistic competition (in which there are many sellers producing highly differentiated goods), monopsony (in which there is only one buyer of a good), and oligopsony (in which there are few buyers of a good). Unlike perfect competition, imperfect competition invariably means market power is unequally distributed. Firms under imperfect competition have the potential to be \"price makers\", which means that, by holding a disproportionately high share of market power, they can influence the prices of their products.\n",
            "\n",
            "Microeconomics studies individual markets by simplifying the economic system by assuming that activity in the market being analysed does not affect other markets. This method of analysis is known as partial-equilibrium analysis (supply and demand). This method aggregates (the sum of all activity) in only one market. General-equilibrium theory studies various markets and their behaviour. It aggregates (the sum of all activity) across all markets. This method studies both changes in markets and their interactions leading towards equilibrium.\n"
          ]
        }
      ]
    },
    {
      "cell_type": "code",
      "source": [
        "# importing libraries\n",
        "import nltk # which we will use for working with text data\n",
        "import re  # it is working for replace , lowing regex expression\n",
        "from nltk.stem.porter import PorterStemmer # stemming\n",
        "from nltk.stem import WordNetLemmatizer #lemmatizer\n",
        "from nltk.corpus import stopwords #getting the stopwords\n",
        "# download all the resources needed for the analysis\n",
        "nltk.download('punkt')\n",
        "nltk.download('stopwords')\n",
        "nltk.download('wordnet')\n",
        "nltk.download('omw-1.4')\n"
      ],
      "metadata": {
        "colab": {
          "base_uri": "https://localhost:8080/"
        },
        "id": "O7nim3FhEE60",
        "outputId": "0ff8d50e-33de-4180-fd8b-02c06088b5cb"
      },
      "execution_count": 39,
      "outputs": [
        {
          "output_type": "stream",
          "name": "stderr",
          "text": [
            "[nltk_data] Downloading package punkt to /root/nltk_data...\n",
            "[nltk_data]   Package punkt is already up-to-date!\n",
            "[nltk_data] Downloading package stopwords to /root/nltk_data...\n",
            "[nltk_data]   Package stopwords is already up-to-date!\n",
            "[nltk_data] Downloading package wordnet to /root/nltk_data...\n",
            "[nltk_data]   Package wordnet is already up-to-date!\n",
            "[nltk_data] Downloading package omw-1.4 to /root/nltk_data...\n"
          ]
        },
        {
          "output_type": "execute_result",
          "data": {
            "text/plain": [
              "True"
            ]
          },
          "metadata": {},
          "execution_count": 39
        }
      ]
    },
    {
      "cell_type": "code",
      "source": [
        "# initilaizing the things \n",
        "port_stem = PorterStemmer()\n",
        "word_lem = WordNetLemmatizer()"
      ],
      "metadata": {
        "id": "k6guu2N_HRPK"
      },
      "execution_count": 7,
      "outputs": []
    },
    {
      "cell_type": "code",
      "source": [
        "# getting the sentence  from the paragraph using sent_tokenize which helps in bringing the entire paragraph into tokens of sentences.\n",
        "sent = nltk.sent_tokenize(eco_para)\n",
        "# it is a list of sentences"
      ],
      "metadata": {
        "id": "-ToI2fY2HF5I"
      },
      "execution_count": 12,
      "outputs": []
    },
    {
      "cell_type": "code",
      "source": [
        "# number of sentences\n",
        "len(sent)"
      ],
      "metadata": {
        "colab": {
          "base_uri": "https://localhost:8080/"
        },
        "id": "PN3caxcIJcIS",
        "outputId": "ebdd537b-f464-411f-d6c5-66eaf57d11ad"
      },
      "execution_count": 13,
      "outputs": [
        {
          "output_type": "execute_result",
          "data": {
            "text/plain": [
              "18"
            ]
          },
          "metadata": {},
          "execution_count": 13
        }
      ]
    },
    {
      "cell_type": "markdown",
      "source": [
        "## Cleaning the paragraph and getting the bag of words\n",
        "\n",
        "We will be using the re module and other imported functions and formuals to get the cleaned text and a bag of words . To do so, we will define a function that does the work for us.\n",
        "\n",
        "### defining the function"
      ],
      "metadata": {
        "id": "xFzFufTXJ0vT"
      }
    },
    {
      "cell_type": "code",
      "source": [
        "# function define\n",
        "def corpus_words(sentences):\n",
        "  \"\"\" It will clean and convert the sentences into\n",
        "  a corpus common and non-stopwords\"\"\"\n",
        "  corpus =[]\n",
        "  for i in range(len(sentences)):\n",
        "    # replace the non-important thing other than a-z A-Z\n",
        "    review = re.sub('[^a-zA-Z]',' ',sentences[i])\n",
        "    # lower case\n",
        "    review  = review.lower()\n",
        "    # splitting it\n",
        "    review = review.split()\n",
        "    # getting rid of stopwords and then lemmatize them\n",
        "    review =[word_lem.lemmatize(word) for word in review if word not in set(stopwords.words('english'))]\n",
        "    review = \" \".join(review)\n",
        "    # adding to the corpus\n",
        "    corpus.append(review)\n",
        "  return corpus\n"
      ],
      "metadata": {
        "id": "oS7G5zR-JqGM"
      },
      "execution_count": 40,
      "outputs": []
    },
    {
      "cell_type": "code",
      "source": [
        "# using the defined function\n",
        "corp = corpus_words(sent)\n"
      ],
      "metadata": {
        "id": "2tqe_VWGJuj4"
      },
      "execution_count": 45,
      "outputs": []
    },
    {
      "cell_type": "code",
      "source": [
        "# printing it\n",
        "corp"
      ],
      "metadata": {
        "colab": {
          "base_uri": "https://localhost:8080/"
        },
        "id": "sK6ryAEWMnry",
        "outputId": "21d64bee-fb20-47e6-b10a-62ff46ec9e49"
      },
      "execution_count": 46,
      "outputs": [
        {
          "output_type": "execute_result",
          "data": {
            "text/plain": [
              "['microeconomics examines entity forming market structure interact within market create market system',\n",
              " 'entity include private public player various classification typically operating scarcity tradable unit light government regulation',\n",
              " 'clarification needed item traded may tangible product apple service repair service legal counsel entertainment',\n",
              " 'theory free market aggregate sum quantity demanded buyer quantity supplied seller may reach economic equilibrium time reaction price change practice various issue may prevent equilibrium equilibrium reached may necessarily morally equitable',\n",
              " 'example supply healthcare service limited external factor equilibrium price may unaffordable many desire cannot pay',\n",
              " 'various market structure exist',\n",
              " 'perfectly competitive market participant large enough market power set price homogeneous product',\n",
              " 'word every participant price taker participant influence price product',\n",
              " 'real world market often experience imperfect competition',\n",
              " 'form include monopoly one seller good duopoly two seller good oligopoly seller good monopolistic competition many seller producing highly differentiated good monopsony one buyer good oligopsony buyer good',\n",
              " 'unlike perfect competition imperfect competition invariably mean market power unequally distributed',\n",
              " 'firm imperfect competition potential price maker mean holding disproportionately high share market power influence price product',\n",
              " 'microeconomics study individual market simplifying economic system assuming activity market analysed affect market',\n",
              " 'method analysis known partial equilibrium analysis supply demand',\n",
              " 'method aggregate sum activity one market',\n",
              " 'general equilibrium theory study various market behaviour',\n",
              " 'aggregate sum activity across market',\n",
              " 'method study change market interaction leading towards equilibrium']"
            ]
          },
          "metadata": {},
          "execution_count": 46
        }
      ]
    },
    {
      "cell_type": "markdown",
      "source": [
        "## Using Count Vectorizer\n",
        "\n",
        "Now,we will be using [count vectorize](https://scikit-learn.org/stable/modules/generated/sklearn.feature_extraction.text.CountVectorizer.html) of sklearn  to create a bag of words like vector matrix.\n",
        "\n",
        "* Note we can do the previous procesing with the help of count vectorize with the use of its different parameters, but it is always good to do it on your own."
      ],
      "metadata": {
        "id": "a64BysSXSGbD"
      }
    },
    {
      "cell_type": "code",
      "source": [
        "# using sklearn feature extraction\n",
        "from sklearn.feature_extraction.text import CountVectorizer\n",
        "# intializing it\n",
        "cv = CountVectorizer()\n",
        "# getting a vector array\n",
        "X_arr = cv.fit_transform(corp).toarray"
      ],
      "metadata": {
        "id": "5_qlyz9vPlAu"
      },
      "execution_count": 49,
      "outputs": []
    },
    {
      "cell_type": "code",
      "source": [
        "# look at it\n",
        "X_arr"
      ],
      "metadata": {
        "colab": {
          "base_uri": "https://localhost:8080/"
        },
        "id": "Sgiy8f_XSb5S",
        "outputId": "82b7a518-bf69-465e-aa05-a43b64afe6f8"
      },
      "execution_count": 50,
      "outputs": [
        {
          "output_type": "execute_result",
          "data": {
            "text/plain": [
              "array([[0, 0, 0, ..., 1, 0, 0],\n",
              "       [0, 0, 0, ..., 0, 0, 0],\n",
              "       [0, 0, 0, ..., 0, 0, 0],\n",
              "       ...,\n",
              "       [0, 0, 0, ..., 0, 0, 0],\n",
              "       [1, 1, 0, ..., 0, 0, 0],\n",
              "       [0, 0, 0, ..., 0, 0, 0]])"
            ]
          },
          "metadata": {},
          "execution_count": 50
        }
      ]
    },
    {
      "cell_type": "code",
      "source": [
        "# look at the dimension\n",
        "print(\"There are {} number of sentences with {} common words in the corpus\".format(X_arr.shape[0],X_arr.shape[1]))"
      ],
      "metadata": {
        "colab": {
          "base_uri": "https://localhost:8080/"
        },
        "id": "m1Ai8PL0TLWw",
        "outputId": "5504bb67-0604-4b1a-b751-2a7601ba110b"
      },
      "execution_count": 53,
      "outputs": [
        {
          "output_type": "stream",
          "name": "stdout",
          "text": [
            "There are 18 number of sentences with 134 common words in the corpus\n"
          ]
        }
      ]
    }
  ]
}